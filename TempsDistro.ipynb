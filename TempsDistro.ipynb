{
 "cells": [
  {
   "cell_type": "code",
   "execution_count": 11,
   "source": [
    "# imports\r\n",
    "import pandas as pd\r\n",
    "import seaborn as sns\r\n",
    "import matplotlib.pyplot as plt \r\n",
    "# load data\r\n",
    "df = pd.read_csv(\"MSP_Weather.csv\")\r\n",
    "# only data from 2021\r\n",
    "df = df.loc[4018:]\r\n",
    "df.sample()"
   ],
   "outputs": [
    {
     "output_type": "execute_result",
     "data": {
      "text/html": [
       "<div>\n",
       "<style scoped>\n",
       "    .dataframe tbody tr th:only-of-type {\n",
       "        vertical-align: middle;\n",
       "    }\n",
       "\n",
       "    .dataframe tbody tr th {\n",
       "        vertical-align: top;\n",
       "    }\n",
       "\n",
       "    .dataframe thead th {\n",
       "        text-align: right;\n",
       "    }\n",
       "</style>\n",
       "<table border=\"1\" class=\"dataframe\">\n",
       "  <thead>\n",
       "    <tr style=\"text-align: right;\">\n",
       "      <th></th>\n",
       "      <th>Date</th>\n",
       "      <th>MaxTemp</th>\n",
       "      <th>MinTemp</th>\n",
       "      <th>PreCip</th>\n",
       "      <th>Snow</th>\n",
       "      <th>SnowDepth</th>\n",
       "    </tr>\n",
       "  </thead>\n",
       "  <tbody>\n",
       "    <tr>\n",
       "      <th>4210</th>\n",
       "      <td>7/12/2021</td>\n",
       "      <td>83</td>\n",
       "      <td>62</td>\n",
       "      <td>0</td>\n",
       "      <td>0</td>\n",
       "      <td>0</td>\n",
       "    </tr>\n",
       "  </tbody>\n",
       "</table>\n",
       "</div>"
      ],
      "text/plain": [
       "           Date  MaxTemp  MinTemp PreCip Snow SnowDepth\n",
       "4210  7/12/2021       83       62      0    0         0"
      ]
     },
     "metadata": {},
     "execution_count": 11
    }
   ],
   "metadata": {}
  },
  {
   "cell_type": "code",
   "execution_count": 18,
   "source": [
    "max_temps = df[\"MaxTemp\"].values\r\n",
    "max_temps"
   ],
   "outputs": [
    {
     "output_type": "execute_result",
     "data": {
      "text/plain": [
       "array([23, 26, 36, 38, 34, 33, 25, 23, 18, 29, 36, 38, 39, 35, 35, 33, 23,\n",
       "       23, 21, 37, 34, 15, 20, 29, 23, 21, 15, 21, 24, 33, 33, 29, 24, 34,\n",
       "       33, 11,  3, -3,  1,  8,  8,  1, -4, -3, -4,  0, 12,  9, 16, 19, 22,\n",
       "       28, 41, 39, 38, 36, 41, 47, 38, 26, 47, 50, 46, 46, 48, 62, 58, 62,\n",
       "       50, 48, 45, 59, 48, 36, 35, 43, 53, 51, 57, 63, 59, 59, 45, 53, 48,\n",
       "       47, 45, 73, 55, 36, 44, 61, 71, 77, 85, 71, 74, 65, 53, 48, 55, 49,\n",
       "       37, 49, 52, 60, 61, 64, 40, 43, 43, 64, 52, 50, 46, 55, 54, 63, 67,\n",
       "       61, 87, 72, 68, 60, 55, 62, 58, 58, 63, 56, 63, 69, 71, 68, 75, 75,\n",
       "       79, 74, 77, 74, 81, 83, 80, 87, 86, 66, 56, 61, 65, 62, 78, 79, 84,\n",
       "       91, 97, 99, 93, 96, 96, 96, 97, 90, 87, 97, 88, 83, 89, 89, 91, 81,\n",
       "       74, 69, 76, 88, 90, 87, 76, 83, 84, 84, 88, 89, 86, 87, 94, 96, 82,\n",
       "       66, 73, 78, 81, 87, 83, 87, 75, 84, 86, 87, 88, 90, 90, 85, 85, 95,\n",
       "       93, 92, 90, 93, 93, 85, 80, 88, 81, 82, 86, 85, 83, 85, 73, 79, 86,\n",
       "       88, 84, 82, 80, 86, 85, 85, 88, 90, 90, 90, 75, 80, 91, 82, 84, 73,\n",
       "       76, 83, 81, 83, 79, 78, 69, 64, 78, 78, 81, 79, 75, 75, 82, 79, 72,\n",
       "       77, 72, 78, 88, 78, 78, 90, 76, 67, 71, 74, 61, 69, 82, 78, 82, 85,\n",
       "       82, 79, 73, 73, 73, 75, 75, 71, 73, 79], dtype=int64)"
      ]
     },
     "metadata": {},
     "execution_count": 18
    }
   ],
   "metadata": {}
  },
  {
   "cell_type": "code",
   "execution_count": 28,
   "source": [
    "sns.set_style(\"darkgrid\")\r\n",
    "ax = sns.boxplot(max_temps)\r\n",
    "plt.title(\"Distribution of Max Temps 2021\")"
   ],
   "outputs": [
    {
     "output_type": "stream",
     "name": "stderr",
     "text": [
      "C:\\Users\\lizba\\anaconda3\\lib\\site-packages\\seaborn\\_decorators.py:36: FutureWarning: Pass the following variable as a keyword arg: x. From version 0.12, the only valid positional argument will be `data`, and passing other arguments without an explicit keyword will result in an error or misinterpretation.\n",
      "  warnings.warn(\n"
     ]
    },
    {
     "output_type": "execute_result",
     "data": {
      "text/plain": [
       "Text(0.5, 1.0, 'Distribution of Max Temps 2021')"
      ]
     },
     "metadata": {},
     "execution_count": 28
    },
    {
     "output_type": "display_data",
     "data": {
      "image/png": "[encoded data removed]",
      "text/plain": [
       "<Figure size 432x288 with 1 Axes>"
      ]
     },
     "metadata": {}
    }
   ],
   "metadata": {}
  },
  {
   "cell_type": "code",
   "execution_count": 19,
   "source": [
    "df[\"MaxTemp\"].describe()"
   ],
   "outputs": [
    {
     "output_type": "execute_result",
     "data": {
      "text/plain": [
       "count    282.000000\n",
       "mean      62.648936\n",
       "std       25.133540\n",
       "min       -4.000000\n",
       "25%       45.250000\n",
       "50%       71.000000\n",
       "75%       83.000000\n",
       "max       99.000000\n",
       "Name: MaxTemp, dtype: float64"
      ]
     },
     "metadata": {},
     "execution_count": 19
    }
   ],
   "metadata": {}
  },
  {
   "cell_type": "code",
   "execution_count": 15,
   "source": [
    "min_temps = df[\"MinTemp\"].values\r\n",
    "min_temps"
   ],
   "outputs": [
    {
     "output_type": "execute_result",
     "data": {
      "text/plain": [
       "array([ 12,  10,  12,  19,  16,  24,  21,  15,  12,  18,  22,  19,  26,\n",
       "        30,  33,  23,  19,  19,   3,   2,   8,   1,   9,  15,  11,  10,\n",
       "         9,   9,  17,  24,  28,  22,  18,  16,   7,   2, -12, -16, -10,\n",
       "        -8,  -6, -10, -13, -12, -19, -17, -15,  -3,   7,   2,  -2,  18,\n",
       "        25,  31,  28,  24,  25,  27,  20,  13,  17,  26,  29,  30,  25,\n",
       "        32,  32,  41,  36,  33,  26,  28,  34,  28,  29,  32,  31,  30,\n",
       "        32,  41,  35,  44,  39,  30,  28,  36,  32,  39,  29,  23,  20,\n",
       "        33,  39,  46,  47,  50,  51,  47,  44,  42,  42,  36,  31,  31,\n",
       "        38,  37,  36,  38,  31,  30,  29,  34,  44,  36,  33,  39,  41,\n",
       "        37,  43,  40,  54,  53,  49,  41,  39,  39,  39,  40,  40,  38,\n",
       "        36,  42,  48,  54,  51,  52,  53,  58,  62,  65,  63,  68,  66,\n",
       "        67,  63,  54,  41,  39,  42,  54,  52,  54,  60,  70,  73,  78,\n",
       "        76,  74,  77,  75,  75,  73,  66,  63,  61,  63,  63,  68,  63,\n",
       "        62,  61,  53,  51,  58,  71,  66,  68,  65,  64,  67,  66,  69,\n",
       "        61,  67,  74,  75,  59,  56,  54,  61,  64,  62,  62,  65,  64,\n",
       "        61,  63,  65,  66,  68,  69,  66,  70,  73,  73,  66,  70,  76,\n",
       "        71,  68,  65,  61,  62,  62,  63,  66,  69,  67,  67,  68,  67,\n",
       "        73,  68,  66,  59,  58,  65,  62,  64,  68,  70,  71,  59,  56,\n",
       "        65,  65,  67,  63,  68,  67,  66,  62,  63,  61,  61,  60,  61,\n",
       "        58,  56,  63,  59,  55,  57,  64,  56,  53,  58,  52,  66,  55,\n",
       "        50,  66,  56,  51,  46,  48,  49,  44,  50,  56,  56,  59,  63,\n",
       "        64,  64,  54,  51,  54,  56,  62,  63,  61], dtype=int64)"
      ]
     },
     "metadata": {},
     "execution_count": 15
    }
   ],
   "metadata": {}
  },
  {
   "cell_type": "code",
   "execution_count": 26,
   "source": [
    "sns.set_style(\"whitegrid\")\r\n",
    "ax = sns.boxplot(min_temps)\r\n",
    "plt.title(\"Distribution of Low Temps 2021\")"
   ],
   "outputs": [
    {
     "output_type": "stream",
     "name": "stderr",
     "text": [
      "C:\\Users\\lizba\\anaconda3\\lib\\site-packages\\seaborn\\_decorators.py:36: FutureWarning: Pass the following variable as a keyword arg: x. From version 0.12, the only valid positional argument will be `data`, and passing other arguments without an explicit keyword will result in an error or misinterpretation.\n",
      "  warnings.warn(\n"
     ]
    },
    {
     "output_type": "execute_result",
     "data": {
      "text/plain": [
       "Text(0.5, 1.0, 'Distribution of Low Temps 2021')"
      ]
     },
     "metadata": {},
     "execution_count": 26
    },
    {
     "output_type": "display_data",
     "data": {
      "image/png": "[encoded data removed]",
      "text/plain": [
       "<Figure size 432x288 with 1 Axes>"
      ]
     },
     "metadata": {}
    }
   ],
   "metadata": {}
  },
  {
   "cell_type": "code",
   "execution_count": 30,
   "source": [
    "df[\"MinTemp\"].describe()"
   ],
   "outputs": [
    {
     "output_type": "execute_result",
     "data": {
      "text/plain": [
       "count    282.000000\n",
       "mean      44.517730\n",
       "std       22.653071\n",
       "min      -19.000000\n",
       "25%       30.000000\n",
       "50%       51.000000\n",
       "75%       63.000000\n",
       "max       78.000000\n",
       "Name: MinTemp, dtype: float64"
      ]
     },
     "metadata": {},
     "execution_count": 30
    }
   ],
   "metadata": {}
  }
 ],
 "metadata": {
  "orig_nbformat": 4,
  "language_info": {
   "name": "python",
   "version": "3.8.8",
   "mimetype": "text/x-python",
   "codemirror_mode": {
    "name": "ipython",
    "version": 3
   },
   "pygments_lexer": "ipython3",
   "nbconvert_exporter": "python",
   "file_extension": ".py"
  },
  "kernelspec": {
   "name": "python3",
   "display_name": "Python 3.8.8 64-bit ('base': conda)"
  },
  "interpreter": {
   "hash": "183dfda7110890ec43aaf2dff91d0c9beb7a88be65e7966aff890752dba90b59"
  }
 },
 "nbformat": 4,
 "nbformat_minor": 2
}